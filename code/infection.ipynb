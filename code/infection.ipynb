{
 "cells": [
  {
   "cell_type": "markdown",
   "metadata": {},
   "source": [
    "### Paper title : \n",
    "# Smartwatch-based ecological momentary assessments for occupant wellness and privacy in buildings\n",
    "\n",
    "### Authors : \n",
    "Clayton Miller , Renee Christensen, Jin Kai Leong, Mahmoud Abdelrahman, Federico Tartarini, Matias Quintana, Andre Matthias Muller, and Mario Frei"
   ]
  },
  {
   "cell_type": "raw",
   "metadata": {},
   "source": [
    "requirements:\n",
    "\n",
    "plotly == 4.5.0\n",
    "pandas == 0.25.1\n",
    "matplotlib == 3.1.3"
   ]
  },
  {
   "cell_type": "raw",
   "metadata": {},
   "source": []
  },
  {
   "cell_type": "code",
   "execution_count": 1,
   "metadata": {},
   "outputs": [],
   "source": [
    "#imports\n",
    "\n",
    "import pandas as pd\n",
    "\n",
    "\n",
    "#plots\n",
    "import matplotlib.pyplot as plt\n",
    "import plotly.graph_objects as go\n",
    "import plotly\n",
    "\n",
    "#utils\n",
    "import json\n",
    "import copy\n",
    "import os\n",
    "\n",
    "#data\n",
    "import schema.infection_schema as infection\n",
    "import schema.fitness_schema as fitness\n",
    "import schema.privacy_schema as privacy\n"
   ]
  },
  {
   "cell_type": "code",
   "execution_count": 2,
   "metadata": {},
   "outputs": [],
   "source": [
    "# define the directories\n",
    "plots_folder = \"./plots/\"\n",
    "data_frames_folder =\"./dataFrames/\"\n",
    "mapped_answers_folder =\"./questionMap/\""
   ]
  },
  {
   "cell_type": "code",
   "execution_count": 3,
   "metadata": {},
   "outputs": [],
   "source": [
    "# load the schema of each question. please refer to Figures 1, 2, and 3 in the paper.\n",
    "privacy_mapped_answers = json.loads(open(mapped_answers_folder+\"privacy_mapped_answers.json\").read())\n",
    "infection_mapped_answers = json.loads(open(mapped_answers_folder+\"infection_mapped_answers.json\").read())\n",
    "fitness_mapped_answers = json.loads(open(mapped_answers_folder+\"fitness_mapped_answers.json\").read())"
   ]
  },
  {
   "cell_type": "markdown",
   "metadata": {},
   "source": [
    "### Figure 1 infection risk question flow\n",
    "<img width=\"400px\" src=\"./figures/Fig1-covid.jpg\">"
   ]
  },
  {
   "cell_type": "code",
   "execution_count": 4,
   "metadata": {},
   "outputs": [
    {
     "data": {
      "text/plain": [
       "{'surroundingsIncreaseInfectionRisk': {'11': 'Not at all',\n",
       "  '10': 'A lot',\n",
       "  '9': 'A little'},\n",
       " 'WhatCausesMoreRisk': {'11': 'People', '10': 'Surface', '9': 'Ventilation'},\n",
       " 'SpecificallyWhatConcernsYou': {'11': 'Density',\n",
       "  '10': 'Proximity',\n",
       "  '9': 'Both'},\n",
       " 'HowManyPeopleIn5M': {'11': '0 pax', '10': '1-4 pax', '9': '5+ pax'}}"
      ]
     },
     "execution_count": 4,
     "metadata": {},
     "output_type": "execute_result"
    }
   ],
   "source": [
    "# Figure 1\n",
    "infection_mapped_answers"
   ]
  },
  {
   "cell_type": "code",
   "execution_count": 5,
   "metadata": {},
   "outputs": [
    {
     "data": {
      "text/plain": [
       "{'surroundingsIncreaseInfectionRisk': {'11': 'HowManyPeopleIn5M',\n",
       "  '10': 'WhatCausesMoreRisk',\n",
       "  '9': 'WhatCausesMoreRisk'},\n",
       " 'WhatCausesMoreRisk': {'11': 'SpecificallyWhatConcernsYou',\n",
       "  '10': 'HowManyPeopleIn5M',\n",
       "  '9': 'HowManyPeopleIn5M'},\n",
       " 'SpecificallyWhatConcernsYou': {'11': 'HowManyPeopleIn5M',\n",
       "  '10': 'HowManyPeopleIn5M',\n",
       "  '9': 'HowManyPeopleIn5M'},\n",
       " 'HowManyPeopleIn5M': {'11': 'end', '10': 'end', '9': 'end'}}"
      ]
     },
     "execution_count": 5,
     "metadata": {},
     "output_type": "execute_result"
    }
   ],
   "source": [
    "infection_labels = {}\n",
    "infection_source_target=[]\n",
    "infection_columns = []\n",
    "questionOptions ={}\n",
    "next_question_options ={}\n",
    "for index, i in enumerate(infection.infection):\n",
    "    infection_columns.append(i[\"name\"])\n",
    "    # print(index, i[\"displayName\"],\"|\", i[\"name\"])\n",
    "    infection_labels[i[\"name\"]] = str(int(index))\n",
    "    next_question_options[i[\"name\"]]={}\n",
    "    for k , v in i[\"answerDirectTo\"].items():\n",
    "        next_question_options[i[\"name\"]][k] = v[\"next\"]\n",
    "\n",
    "    if (len(i[\"iconText\"]) ==3):\n",
    "         questionOptions[i[\"name\"]]= {11 : i[\"iconText\"][0], 10 : i[\"iconText\"][1], 9 : i[\"iconText\"][2]} \n",
    "\n",
    "    elif (len(i[\"iconText\"]) ==2):\n",
    "         questionOptions[i[\"name\"]]= {11 : i[\"iconText\"][0], 10 : i[\"iconText\"][1]} \n",
    "\n",
    "for index, i in enumerate(infection.infection):\n",
    "    for k, v in i[\"answerDirectTo\"].items():\n",
    "        if v[\"next\"] != \"end\":\n",
    "            if not [index, infection_labels[v[\"next\"]]] in infection_source_target:\n",
    "                infection_source_target.append([index, infection_labels[v[\"next\"]]])\n",
    "next_question_options"
   ]
  },
  {
   "cell_type": "code",
   "execution_count": null,
   "metadata": {},
   "outputs": [],
   "source": []
  },
  {
   "cell_type": "markdown",
   "metadata": {},
   "source": [
    "### Loading the data"
   ]
  },
  {
   "cell_type": "code",
   "execution_count": 7,
   "metadata": {},
   "outputs": [
    {
     "data": {
      "text/html": [
       "<div>\n",
       "<style scoped>\n",
       "    .dataframe tbody tr th:only-of-type {\n",
       "        vertical-align: middle;\n",
       "    }\n",
       "\n",
       "    .dataframe tbody tr th {\n",
       "        vertical-align: top;\n",
       "    }\n",
       "\n",
       "    .dataframe thead th {\n",
       "        text-align: right;\n",
       "    }\n",
       "</style>\n",
       "<table border=\"1\" class=\"dataframe\">\n",
       "  <thead>\n",
       "    <tr style=\"text-align: right;\">\n",
       "      <th></th>\n",
       "      <th>surroundingsIncreaseInfectionRisk</th>\n",
       "      <th>WhatCausesMoreRisk</th>\n",
       "      <th>SpecificallyWhatConcernsYou</th>\n",
       "      <th>HowManyPeopleIn5M</th>\n",
       "    </tr>\n",
       "    <tr>\n",
       "      <th>time</th>\n",
       "      <th></th>\n",
       "      <th></th>\n",
       "      <th></th>\n",
       "      <th></th>\n",
       "    </tr>\n",
       "  </thead>\n",
       "  <tbody>\n",
       "    <tr>\n",
       "      <th>2021-04-08 13:21:18.229000+08:00</th>\n",
       "      <td>A little</td>\n",
       "      <td>People</td>\n",
       "      <td>Both</td>\n",
       "      <td>5+ pax</td>\n",
       "    </tr>\n",
       "    <tr>\n",
       "      <th>2021-04-08 13:22:10.304000+08:00</th>\n",
       "      <td>Not at all</td>\n",
       "      <td>none</td>\n",
       "      <td>none</td>\n",
       "      <td>1-4 pax</td>\n",
       "    </tr>\n",
       "    <tr>\n",
       "      <th>2021-04-08 13:29:57.195000+08:00</th>\n",
       "      <td>A little</td>\n",
       "      <td>People</td>\n",
       "      <td>Density</td>\n",
       "      <td>1-4 pax</td>\n",
       "    </tr>\n",
       "    <tr>\n",
       "      <th>2021-04-08 13:30:08.899000+08:00</th>\n",
       "      <td>A little</td>\n",
       "      <td>Surface</td>\n",
       "      <td>none</td>\n",
       "      <td>1-4 pax</td>\n",
       "    </tr>\n",
       "    <tr>\n",
       "      <th>2021-04-08 13:31:13.203000+08:00</th>\n",
       "      <td>A little</td>\n",
       "      <td>Ventilation</td>\n",
       "      <td>none</td>\n",
       "      <td>5+ pax</td>\n",
       "    </tr>\n",
       "  </tbody>\n",
       "</table>\n",
       "</div>"
      ],
      "text/plain": [
       "                                 surroundingsIncreaseInfectionRisk  \\\n",
       "time                                                                 \n",
       "2021-04-08 13:21:18.229000+08:00                          A little   \n",
       "2021-04-08 13:22:10.304000+08:00                        Not at all   \n",
       "2021-04-08 13:29:57.195000+08:00                          A little   \n",
       "2021-04-08 13:30:08.899000+08:00                          A little   \n",
       "2021-04-08 13:31:13.203000+08:00                          A little   \n",
       "\n",
       "                                 WhatCausesMoreRisk  \\\n",
       "time                                                  \n",
       "2021-04-08 13:21:18.229000+08:00             People   \n",
       "2021-04-08 13:22:10.304000+08:00               none   \n",
       "2021-04-08 13:29:57.195000+08:00             People   \n",
       "2021-04-08 13:30:08.899000+08:00            Surface   \n",
       "2021-04-08 13:31:13.203000+08:00        Ventilation   \n",
       "\n",
       "                                 SpecificallyWhatConcernsYou HowManyPeopleIn5M  \n",
       "time                                                                            \n",
       "2021-04-08 13:21:18.229000+08:00                        Both            5+ pax  \n",
       "2021-04-08 13:22:10.304000+08:00                        none           1-4 pax  \n",
       "2021-04-08 13:29:57.195000+08:00                     Density           1-4 pax  \n",
       "2021-04-08 13:30:08.899000+08:00                        none           1-4 pax  \n",
       "2021-04-08 13:31:13.203000+08:00                        none            5+ pax  "
      ]
     },
     "execution_count": 7,
     "metadata": {},
     "output_type": "execute_result"
    }
   ],
   "source": [
    "# 2. The infection data frame\n",
    "infectionDfs= pd.read_csv(data_frames_folder+\"infection.csv\", parse_dates=True, index_col=\"time\")\n",
    "infectionDfs = infectionDfs[infectionDfs[\"Userid\"]!= \"onith35\"]\n",
    "\n",
    "MappedinfectionDf = copy.deepcopy(infectionDfs)[infection_columns]\n",
    "\n",
    "def intIt(x):\n",
    "    try:\n",
    "        # print(str(int(x)))\n",
    "        return str(int(x))\n",
    "    except:\n",
    "        return -10\n",
    "\n",
    "for i in MappedinfectionDf.columns:\n",
    "    try:\n",
    "        # print(i, infection_mapped_answers[i])\n",
    "        MappedinfectionDf[i]=MappedinfectionDf[i].apply(lambda x : intIt(x))\n",
    "        # MappedinfectionDf[i]=MappedinfectionDf[i].apply(lambda x :infection_mapped_answers[i][str(int(x))])\n",
    "    except Exception as e:\n",
    "        print(str(e))\n",
    "\n",
    "def mapIt(x, columnName):\n",
    "    if x != -10:\n",
    "        # return [infection_mapped_answers[columnName][str(int(x))],next_question_options[columnName][str(int(x))]]\n",
    "        return infection_mapped_answers[columnName][str(int(x))]\n",
    "    else:\n",
    "        return \"none\"\n",
    "for i in MappedinfectionDf.columns:\n",
    "    # print(i)\n",
    "    try:\n",
    "        MappedinfectionDf[i]=MappedinfectionDf[i].apply(lambda x :mapIt(x, i))\n",
    "    except Exception as e:\n",
    "        print(str(e))\n",
    "\n",
    "MappedinfectionDf.head()"
   ]
  },
  {
   "cell_type": "code",
   "execution_count": 8,
   "metadata": {},
   "outputs": [],
   "source": [
    "#list of all answers\n",
    "infection_all_answers= []\n",
    "for k, v in infection_mapped_answers.items():\n",
    "    for j, v2 in v.items():\n",
    "        if not v2 in infection_all_answers:\n",
    "            infection_all_answers.append(v2)\n",
    "\n",
    "infection_pairs = []\n",
    "def getChild(src, item):\n",
    "    if item != \"end\":\n",
    "        for k2, v2 in infection_mapped_answers[item].items():\n",
    "            infection_pairs.append([src, v2])\n",
    "\n",
    "for k ,v  in next_question_options.items():\n",
    "    for k2, v2 in v.items():\n",
    "        getChild(infection_mapped_answers[k][k2], v2)"
   ]
  },
  {
   "cell_type": "code",
   "execution_count": 9,
   "metadata": {},
   "outputs": [
    {
     "data": {
      "text/plain": [
       "['Not at all',\n",
       " 'A lot',\n",
       " 'A little',\n",
       " 'People',\n",
       " 'Surface',\n",
       " 'Ventilation',\n",
       " 'Density',\n",
       " 'Proximity',\n",
       " 'Both',\n",
       " '0 pax',\n",
       " '1-4 pax',\n",
       " '5+ pax']"
      ]
     },
     "execution_count": 9,
     "metadata": {},
     "output_type": "execute_result"
    }
   ],
   "source": [
    "infection_all_answers"
   ]
  },
  {
   "cell_type": "code",
   "execution_count": 10,
   "metadata": {},
   "outputs": [],
   "source": [
    "infection_pairs_indeces = [[infection_all_answers.index(i[0]), infection_all_answers.index(i[1])] for i in infection_pairs]\n",
    "# infection_pairs_indeces\n"
   ]
  },
  {
   "cell_type": "code",
   "execution_count": 11,
   "metadata": {},
   "outputs": [
    {
     "data": {
      "text/html": [
       "<div>\n",
       "<style scoped>\n",
       "    .dataframe tbody tr th:only-of-type {\n",
       "        vertical-align: middle;\n",
       "    }\n",
       "\n",
       "    .dataframe tbody tr th {\n",
       "        vertical-align: top;\n",
       "    }\n",
       "\n",
       "    .dataframe thead th {\n",
       "        text-align: right;\n",
       "    }\n",
       "</style>\n",
       "<table border=\"1\" class=\"dataframe\">\n",
       "  <thead>\n",
       "    <tr style=\"text-align: right;\">\n",
       "      <th></th>\n",
       "      <th>surroundingsIncreaseInfectionRisk</th>\n",
       "      <th>WhatCausesMoreRisk</th>\n",
       "      <th>SpecificallyWhatConcernsYou</th>\n",
       "      <th>HowManyPeopleIn5M</th>\n",
       "    </tr>\n",
       "    <tr>\n",
       "      <th>time</th>\n",
       "      <th></th>\n",
       "      <th></th>\n",
       "      <th></th>\n",
       "      <th></th>\n",
       "    </tr>\n",
       "  </thead>\n",
       "  <tbody>\n",
       "    <tr>\n",
       "      <th>2021-04-08 13:21:18.229000+08:00</th>\n",
       "      <td>2</td>\n",
       "      <td>3</td>\n",
       "      <td>8</td>\n",
       "      <td>11</td>\n",
       "    </tr>\n",
       "    <tr>\n",
       "      <th>2021-04-08 13:22:10.304000+08:00</th>\n",
       "      <td>0</td>\n",
       "      <td>-10</td>\n",
       "      <td>-10</td>\n",
       "      <td>10</td>\n",
       "    </tr>\n",
       "    <tr>\n",
       "      <th>2021-04-08 13:29:57.195000+08:00</th>\n",
       "      <td>2</td>\n",
       "      <td>3</td>\n",
       "      <td>6</td>\n",
       "      <td>10</td>\n",
       "    </tr>\n",
       "    <tr>\n",
       "      <th>2021-04-08 13:30:08.899000+08:00</th>\n",
       "      <td>2</td>\n",
       "      <td>4</td>\n",
       "      <td>-10</td>\n",
       "      <td>10</td>\n",
       "    </tr>\n",
       "    <tr>\n",
       "      <th>2021-04-08 13:31:13.203000+08:00</th>\n",
       "      <td>2</td>\n",
       "      <td>5</td>\n",
       "      <td>-10</td>\n",
       "      <td>11</td>\n",
       "    </tr>\n",
       "  </tbody>\n",
       "</table>\n",
       "</div>"
      ],
      "text/plain": [
       "                                  surroundingsIncreaseInfectionRisk  \\\n",
       "time                                                                  \n",
       "2021-04-08 13:21:18.229000+08:00                                  2   \n",
       "2021-04-08 13:22:10.304000+08:00                                  0   \n",
       "2021-04-08 13:29:57.195000+08:00                                  2   \n",
       "2021-04-08 13:30:08.899000+08:00                                  2   \n",
       "2021-04-08 13:31:13.203000+08:00                                  2   \n",
       "\n",
       "                                  WhatCausesMoreRisk  \\\n",
       "time                                                   \n",
       "2021-04-08 13:21:18.229000+08:00                   3   \n",
       "2021-04-08 13:22:10.304000+08:00                 -10   \n",
       "2021-04-08 13:29:57.195000+08:00                   3   \n",
       "2021-04-08 13:30:08.899000+08:00                   4   \n",
       "2021-04-08 13:31:13.203000+08:00                   5   \n",
       "\n",
       "                                  SpecificallyWhatConcernsYou  \\\n",
       "time                                                            \n",
       "2021-04-08 13:21:18.229000+08:00                            8   \n",
       "2021-04-08 13:22:10.304000+08:00                          -10   \n",
       "2021-04-08 13:29:57.195000+08:00                            6   \n",
       "2021-04-08 13:30:08.899000+08:00                          -10   \n",
       "2021-04-08 13:31:13.203000+08:00                          -10   \n",
       "\n",
       "                                  HowManyPeopleIn5M  \n",
       "time                                                 \n",
       "2021-04-08 13:21:18.229000+08:00                 11  \n",
       "2021-04-08 13:22:10.304000+08:00                 10  \n",
       "2021-04-08 13:29:57.195000+08:00                 10  \n",
       "2021-04-08 13:30:08.899000+08:00                 10  \n",
       "2021-04-08 13:31:13.203000+08:00                 11  "
      ]
     },
     "execution_count": 11,
     "metadata": {},
     "output_type": "execute_result"
    }
   ],
   "source": [
    "MappedinfectionDfNumbered= copy.deepcopy(MappedinfectionDf)\n",
    "def indexIt(x):\n",
    "    try:\n",
    "        return infection_all_answers.index(x)\n",
    "    except:\n",
    "        return -10\n",
    "\n",
    "for i in MappedinfectionDfNumbered:\n",
    "    MappedinfectionDfNumbered[i] = MappedinfectionDfNumbered[i].apply(lambda x : indexIt(x))\n",
    "MappedinfectionDfNumbered.head() "
   ]
  },
  {
   "cell_type": "code",
   "execution_count": 12,
   "metadata": {},
   "outputs": [],
   "source": [
    "\n",
    "sourceTargetDf = pd.DataFrame({\"sourceTarget\": []})\n",
    "sourceTargetDf\n",
    "\n",
    "sourceTarget = []\n",
    "for k , v in MappedinfectionDfNumbered.transpose().to_dict().items():\n",
    "    row = [v2 for k2 , v2 in v.items()]\n",
    "    for i in infection_pairs_indeces:\n",
    "        if i[0] in row and i[1] in row:\n",
    "            if [i[0], i[1]] in infection_pairs_indeces:\n",
    "                sourceTarget.append(str(i))\n",
    "\n",
    "sourceTargetDf[\"sourceTarget\"] = sourceTarget\n"
   ]
  },
  {
   "cell_type": "code",
   "execution_count": 13,
   "metadata": {},
   "outputs": [
    {
     "data": {
      "text/plain": [
       "[[0, 9, 20],\n",
       " [2, 5, 18],\n",
       " [5, 11, 14],\n",
       " [2, 4, 9],\n",
       " [4, 10, 6],\n",
       " [2, 3, 4],\n",
       " [5, 10, 4],\n",
       " [3, 6, 3],\n",
       " [6, 10, 2],\n",
       " [0, 10, 2],\n",
       " [4, 11, 2],\n",
       " [3, 8, 1],\n",
       " [8, 11, 1],\n",
       " [6, 9, 1],\n",
       " [4, 9, 1]]"
      ]
     },
     "execution_count": 13,
     "metadata": {},
     "output_type": "execute_result"
    }
   ],
   "source": [
    "infection_source_target_count = pd.DataFrame(sourceTargetDf[\"sourceTarget\"].value_counts()).to_dict()\n",
    "\n",
    "infection_data = []\n",
    "for k, v in infection_source_target_count[\"sourceTarget\"].items():\n",
    "    d = json.loads(k)\n",
    "    d.append(v)\n",
    "    infection_data.append(d)\n",
    "infection_data"
   ]
  },
  {
   "cell_type": "code",
   "execution_count": 14,
   "metadata": {},
   "outputs": [
    {
     "name": "stdout",
     "output_type": "stream",
     "text": [
      "Do your surroundingsincrease infection risk?\n",
      "What causes more risk?\n",
      "Specifically, whatconcerns you?\n",
      "Currently, how manypeople within 5m?\n"
     ]
    }
   ],
   "source": [
    "#questions to answers \n",
    "for i in infection.infection:\n",
    "    print(i[\"questionText\"] + i[\"questionSecondText\"] )"
   ]
  },
  {
   "cell_type": "code",
   "execution_count": 16,
   "metadata": {},
   "outputs": [
    {
     "data": {
      "text/plain": [
       "'./plots/infection.html'"
      ]
     },
     "execution_count": 16,
     "metadata": {},
     "output_type": "execute_result"
    }
   ],
   "source": [
    "# 2. infection sankey diagram\n",
    "data=[go.Sankey(\n",
    "    node = dict(\n",
    "      pad = 15,\n",
    "      thickness = 20,\n",
    "      line = dict(color = \"black\", width = 0.5),\n",
    "      label = infection_all_answers,\n",
    "      color = \"blue\"\n",
    "    ),\n",
    "   link = dict(\n",
    "      source = [x[0] for x in infection_data], \n",
    "      target = [x[1] for x in infection_data],\n",
    "      value =  [x[2] for x in infection_data]\n",
    "  ))]\n",
    "\n",
    "plotly.offline.plot(data, filename=plots_folder+'infection', image='svg')\n"
   ]
  },
  {
   "cell_type": "code",
   "execution_count": 9,
   "metadata": {},
   "outputs": [
    {
     "data": {
      "text/plain": [
       "{0: 'Not at all',\n",
       " 1: 'A little, A lot',\n",
       " 2: 'A lot',\n",
       " 3: 'Surface',\n",
       " 4: 'Ventilation',\n",
       " 5: 'People',\n",
       " 6: 'Density',\n",
       " 7: 'Proximity',\n",
       " 8: 'Both',\n",
       " 9: '0 pax',\n",
       " 10: '1-4 pax',\n",
       " 11: '5+ pax',\n",
       " 12: 'Surroundings increase risk ? ',\n",
       " 13: 'How many people '}"
      ]
     },
     "execution_count": 9,
     "metadata": {},
     "output_type": "execute_result"
    }
   ],
   "source": [
    "# 3. Infection risk sankey diagram\n",
    "infection_data = [\n",
    "    # surroundingsIncreaseInfectionRisk Not at all 53\tA lot 38\tA little 38\n",
    "    [12, 0, 53],\n",
    "    [12, 1, 76],\n",
    "    # WhatCausesMoreRisk Surface 40\tVentilation 27\tPeople 9\n",
    "    [1, 3, 40],\n",
    "    [1, 4, 27],\n",
    "    [1, 5, 9],\n",
    "    # SpecificallyWhatConcernsYou Density 4\tProximity 3\tBoth 2\n",
    "    [5, 6, 4],\n",
    "    [5, 7, 3],\n",
    "    [5, 8, 2],\n",
    "    # HowManyPeopleIn5M 0 pax 64\t1-4 pax 41\t5+ pax 24\n",
    "    [0, 9, 43],\n",
    "    [0, 10, 8],\n",
    "    [0, 11, 2],\n",
    "    [5, 10, 6],\n",
    "    [5, 11, 2],\n",
    "    [5, 9, 1],\n",
    "    [3, 9, 20],\n",
    "    [3, 10, 16],\n",
    "    [3, 11, 4],\n",
    "    [4, 11, 16],\n",
    "    [4, 10, 11],\n",
    "]\n",
    "\n",
    "\n",
    "label = [\n",
    "    \"Not at all\",  # 0\n",
    "    \"A little, A lot\",  # 1\n",
    "    \"A lot\",  # 2\n",
    "    \"Surface\",  # 3\n",
    "    \"Ventilation\",  # 4\n",
    "    \"People\",  # 5\n",
    "    \"Density\",  # 6\n",
    "    \"Proximity\",  # 7\n",
    "    \"Both\",  # 8\n",
    "    \"0 pax\",  # 9\n",
    "    \"1-4 pax\",  # 10\n",
    "    \"5+ pax\",  # 11\n",
    "    \"Surroundings increase risk ? \",  # 12\n",
    "    \"How many people \",\n",
    "]\n",
    "\n",
    "labels = {i: index for i, index in enumerate(label)}\n",
    "labels"
   ]
  },
  {
   "cell_type": "markdown",
   "metadata": {},
   "source": [
    "### Figure 4 - spatial mapping of infection risk \n",
    "The following code is a spatial scatter plot of the infection cause preception. It represents answers to the question \"What causes more risk?\" \n",
    "\n",
    "1. People, \n",
    "2. Surfaces, or \n",
    "3. Ventilation\n",
    "\n",
    "<img width=\"300\" src=\"./figures/risk_cause.png\">\n",
    "\n",
    "to plot the data correctly, mapbox_access_token is required, please refer to https://docs.mapbox.com/help/glossary/access-token/"
   ]
  },
  {
   "cell_type": "code",
   "execution_count": 24,
   "metadata": {},
   "outputs": [],
   "source": [
    "mapDf = InfectionDfs[InfectionDfs[\"Floor\"]==3.0]\n",
    "mapDf = mapDf[mapDf[\"RiskCuase\"].notna()]"
   ]
  },
  {
   "cell_type": "code",
   "execution_count": null,
   "metadata": {},
   "outputs": [],
   "source": [
    "import plotly.express as px\n",
    "mapbox_access_token = \"\"   # you need to get a mapbox public token to be able to render the map\n",
    "                           # for more information about getting mapbox token : https://docs.mapbox.com/help/glossary/access-token/\n",
    "px.set_mapbox_access_token(mapbox_access_token)\n",
    "# fig = px.density_mapbox(newDf, lat=\"Latitude\", lon=\"Longitude\",opacity=0.8, z=\"surroundingsIncreaseInfectionRisk\",zoom=18,radius=30)\n",
    "fig = px.scatter_mapbox(mapDf, lat=\"Latitude\", lon=\"Longitude\",opacity=0.5, color=\"RiskCuase\",zoom=18, size=\"surroundingsIncreaseInfectionRisk\",size_max=10)\n",
    "fig.show()"
   ]
  }
 ],
 "metadata": {
  "kernelspec": {
   "display_name": "Python 3",
   "language": "python",
   "name": "python3"
  },
  "language_info": {
   "codemirror_mode": {
    "name": "ipython",
    "version": 3
   },
   "file_extension": ".py",
   "mimetype": "text/x-python",
   "name": "python",
   "nbconvert_exporter": "python",
   "pygments_lexer": "ipython3",
   "version": "3.8.8"
  }
 },
 "nbformat": 4,
 "nbformat_minor": 4
}
